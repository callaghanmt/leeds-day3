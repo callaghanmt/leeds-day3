{
 "cells": [
  {
   "cell_type": "markdown",
   "metadata": {},
   "source": [
    "# Plotting and interacting with data"
   ]
  },
  {
   "cell_type": "markdown",
   "metadata": {},
   "source": [
    "### First, set up some packages"
   ]
  },
  {
   "cell_type": "code",
   "execution_count": null,
   "metadata": {
    "collapsed": false
   },
   "outputs": [],
   "source": [
    "#NetCDF4 is a package to access NetCDF data files\n",
    "from netCDF4 import Dataset, num2date, date2num\n",
    "from numpy import *\n",
    "import matplotlib.pyplot as plt\n",
    "%matplotlib inline"
   ]
  },
  {
   "cell_type": "markdown",
   "metadata": {},
   "source": [
    "**For Python 3 people**"
   ]
  },
  {
   "cell_type": "code",
   "execution_count": null,
   "metadata": {
    "collapsed": true
   },
   "outputs": [],
   "source": [
    "#ipywidgets provides some interactivity widgets within IPython notebook\n",
    "from ipywidgets import interact, interactive, fixed\n",
    "import ipywidgets as widgets"
   ]
  },
  {
   "cell_type": "markdown",
   "metadata": {},
   "source": [
    "If you get import errors (or missing libraries, then use 'conda install') at the command line"
   ]
  },
  {
   "cell_type": "code",
   "execution_count": null,
   "metadata": {
    "collapsed": false
   },
   "outputs": [],
   "source": [
    "#linspace creates a set of numbers, here 0 to 1 in 100 steps\n",
    "x=linspace(0,1,100)\n",
    "f=2"
   ]
  },
  {
   "cell_type": "code",
   "execution_count": null,
   "metadata": {
    "collapsed": false
   },
   "outputs": [],
   "source": [
    "plt.plot(x,sin(2*pi*x*f));"
   ]
  },
  {
   "cell_type": "code",
   "execution_count": null,
   "metadata": {
    "collapsed": true
   },
   "outputs": [],
   "source": [
    "def pltsin(f):\n",
    "    plt.plot(x,sin(2*pi*x*f))"
   ]
  },
  {
   "cell_type": "code",
   "execution_count": null,
   "metadata": {
    "collapsed": false
   },
   "outputs": [],
   "source": [
    "pltsin(9)"
   ]
  },
  {
   "cell_type": "code",
   "execution_count": null,
   "metadata": {
    "collapsed": false
   },
   "outputs": [],
   "source": [
    "interact(pltsin, f=(1,10,0.1));"
   ]
  },
  {
   "cell_type": "markdown",
   "metadata": {
    "collapsed": true
   },
   "source": [
    "Q. Rewrite the function to allow amplitude to be varied and add in an extra slider to vary amplitude as well as freq"
   ]
  },
  {
   "cell_type": "markdown",
   "metadata": {},
   "source": [
    "### Now to get some data: DropBox"
   ]
  },
  {
   "cell_type": "markdown",
   "metadata": {},
   "source": [
    "Follow this link and get a set of data files. Put this in your current working directory.\n",
    "\n",
    "https://www.dropbox.com/s/f0qebhqjlkbw6tc/ncep-data.zip?dl=0\n",
    "\n",
    "This will allow you to download a zip file. Unzip it and move the data files."
   ]
  },
  {
   "cell_type": "code",
   "execution_count": null,
   "metadata": {
    "collapsed": true
   },
   "outputs": [],
   "source": [
    "f = Dataset('air.sig995.2013.nc')"
   ]
  },
  {
   "cell_type": "markdown",
   "metadata": {
    "collapsed": false
   },
   "source": [
    "Ideally, we could download the data directly from NOAA. Experience tells us this is a bit slow...\n",
    "```\n",
    "variabs = ['air', 'uwnd', 'vwnd', 'rhum']\n",
    "for vvv in variabs:\n",
    "    for i in range(2000,2010):\n",
    "        !wget ftp://ftp.cdc.noaa.gov/Datasets/ncep.reanalysis.dailyavgs/surface/{vvv}.sig995.{i}.nc\n",
    "```"
   ]
  },
  {
   "cell_type": "code",
   "execution_count": null,
   "metadata": {
    "collapsed": true
   },
   "outputs": [],
   "source": [
    "air = f.variables['air'] #get variable"
   ]
  },
  {
   "cell_type": "code",
   "execution_count": null,
   "metadata": {
    "collapsed": false
   },
   "outputs": [],
   "source": [
    "plt.imshow(air[0,:,:]) #display first timestep"
   ]
  },
  {
   "cell_type": "code",
   "execution_count": null,
   "metadata": {
    "collapsed": true
   },
   "outputs": [],
   "source": [
    "#Create a function to browse through the days\n",
    "def sh(time):\n",
    "    plt.imshow(air[time,:,:])"
   ]
  },
  {
   "cell_type": "code",
   "execution_count": null,
   "metadata": {
    "collapsed": true
   },
   "outputs": [],
   "source": [
    "#Now make it interactive"
   ]
  },
  {
   "cell_type": "code",
   "execution_count": null,
   "metadata": {
    "collapsed": false
   },
   "outputs": [],
   "source": [
    "interact(sh, time=(0,355,1));"
   ]
  },
  {
   "cell_type": "code",
   "execution_count": null,
   "metadata": {
    "collapsed": true
   },
   "outputs": [],
   "source": [
    "#Add in some functionality to browse variables too\n",
    "\n",
    "def sh(var='air', time=0):\n",
    "    f = Dataset(var+'.sig995.2013.nc')\n",
    "    vv = f.variables[var]\n",
    "    plt.imshow(vv[time,:,:])"
   ]
  },
  {
   "cell_type": "code",
   "execution_count": null,
   "metadata": {
    "collapsed": true
   },
   "outputs": [],
   "source": [
    "# Also have a list of variables\n",
    "\n",
    "variabs = ['air', 'uwnd', 'vwnd', 'rhum']"
   ]
  },
  {
   "cell_type": "code",
   "execution_count": null,
   "metadata": {
    "collapsed": false
   },
   "outputs": [],
   "source": [
    "# And now interact with it\n",
    "\n",
    "interact(sh, time=(0,355,1), var=variabs);"
   ]
  },
  {
   "cell_type": "code",
   "execution_count": null,
   "metadata": {
    "collapsed": true
   },
   "outputs": [],
   "source": [
    "# And now add in some years\n",
    "\n",
    "def sh(year='2013',var='air', time=0):\n",
    "    f = Dataset(var+'.sig995.'+year+'.nc')\n",
    "    vv = f.variables[var]\n",
    "    plt.imshow(vv[time,:,:])"
   ]
  },
  {
   "cell_type": "markdown",
   "metadata": {},
   "source": [
    "### Challenge"
   ]
  },
  {
   "cell_type": "code",
   "execution_count": null,
   "metadata": {
    "collapsed": true
   },
   "outputs": [],
   "source": [
    "# Create a list of years to form a drop down\n"
   ]
  },
  {
   "cell_type": "code",
   "execution_count": null,
   "metadata": {
    "collapsed": true
   },
   "outputs": [],
   "source": [
    "# And now interact with it\n"
   ]
  },
  {
   "cell_type": "markdown",
   "metadata": {
    "collapsed": true
   },
   "source": [
    "### Creating maps using Basemap\n",
    "You might need to do a `conda install basemap` to get the required package installed."
   ]
  },
  {
   "cell_type": "code",
   "execution_count": null,
   "metadata": {
    "collapsed": false
   },
   "outputs": [],
   "source": [
    "#import the basemap package\n",
    "from mpl_toolkits.basemap import Basemap"
   ]
  },
  {
   "cell_type": "code",
   "execution_count": null,
   "metadata": {
    "collapsed": false
   },
   "outputs": [],
   "source": [
    "# npstere = north polar stereographic projection\n",
    "m = Basemap(projection='robin',boundinglat=60,lon_0=0,resolution='l')"
   ]
  },
  {
   "cell_type": "code",
   "execution_count": null,
   "metadata": {
    "collapsed": false
   },
   "outputs": [],
   "source": [
    "# Set up some variables\n",
    "\n",
    "lon = f.variables['lon'][:]\n",
    "lat = f.variables['lat'][:]\n",
    "lon, lat = meshgrid(lon, lat)\n",
    "x, y = m(lon, lat)"
   ]
  },
  {
   "cell_type": "code",
   "execution_count": null,
   "metadata": {
    "collapsed": false
   },
   "outputs": [],
   "source": [
    "# A more complex function incorporating all aspects\n",
    "\n",
    "def sh(year='2013',var='air', time =0):\n",
    "    f = Dataset(var+'.sig995.'+year+'.nc')\n",
    "    vv = f.variables[var]\n",
    "    tt = f.variables['time']\n",
    "    dd = num2date(tt[time], tt.units)\n",
    "    m.fillcontinents(color='gray',lake_color='gray')\n",
    "    m.drawparallels(arange(-80.,81.,20.))\n",
    "    m.drawmeridians(arange(-180.,181.,20.))\n",
    "    m.drawmapboundary(fill_color='white')\n",
    "    cs = m.contourf(x,y,vv[time,:,:]-273.15)\n",
    "    #imshow(vv[time,:,:])\n",
    "        "
   ]
  },
  {
   "cell_type": "code",
   "execution_count": null,
   "metadata": {
    "collapsed": false
   },
   "outputs": [],
   "source": [
    "# And now interact with it...\n",
    "\n",
    "interact(sh, year=years, time=(0,355,1), var=variabs)"
   ]
  },
  {
   "cell_type": "code",
   "execution_count": null,
   "metadata": {
    "collapsed": true
   },
   "outputs": [],
   "source": []
  }
 ],
 "metadata": {
  "kernelspec": {
   "display_name": "Python 3",
   "language": "python",
   "name": "python3"
  },
  "language_info": {
   "codemirror_mode": {
    "name": "ipython",
    "version": 3
   },
   "file_extension": ".py",
   "mimetype": "text/x-python",
   "name": "python",
   "nbconvert_exporter": "python",
   "pygments_lexer": "ipython3",
   "version": "3.5.1"
  }
 },
 "nbformat": 4,
 "nbformat_minor": 0
}
